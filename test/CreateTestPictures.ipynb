{
 "cells": [
  {
   "cell_type": "code",
   "execution_count": null,
   "metadata": {},
   "outputs": [],
   "source": [
    "from PIL import Image\n",
    "import numpy as np\n",
    "import os\n",
    "import csv\n",
    "\n",
    "def getCoords(x, y):\n",
    "    xcoords = np.random.randint(0, x, (50))\n",
    "    ycoords = np.random.randint(0, y, (50))\n",
    "    xycoords = list(zip(xcoords, ycoords))\n",
    "    return xycoords"
   ]
  },
  {
   "cell_type": "code",
   "execution_count": null,
   "metadata": {},
   "outputs": [],
   "source": [
    "changedfiles = []\n",
    "for file in os.listdir('.'):\n",
    "    if not file.endswith(\".jpg\"):\n",
    "        continue\n",
    "\n",
    "    rand = np.random.randint(0, 10)\n",
    "    \n",
    "    if rand % 10 == 0:\n",
    "\n",
    "        filename = file[:-4]\n",
    "        img = Image.open(file)\n",
    "        \n",
    "        rand1 = np.random.randint(0, 2)\n",
    "        if rand1 == 0:\n",
    "            newfilename = filename + \".png\"\n",
    "            img.save(newfilename, \"PNG\")\n",
    "            \n",
    "            \n",
    "        elif rand1 == 1:\n",
    "            newfilename = file + \".grey.jpg\"\n",
    "            grey = img.convert('L')\n",
    "            grey.save(newfilename)\n",
    "\n",
    "        else:\n",
    "            newfilename = filename + \".edit.jpg\"\n",
    "            size = img.size\n",
    "            coords = getCoords(size[0], size[1])\n",
    "            for coord in coords:\n",
    "                img.putpixel(coord, 0)\n",
    "            img.save(newfilename)\n",
    "            \n",
    "        changedfiles.append((file, newfilename))\n",
    "\n",
    "\n"
   ]
  },
  {
   "cell_type": "code",
   "execution_count": null,
   "metadata": {},
   "outputs": [],
   "source": [
    "changedfiles.sort(key=lambda tup:tup[0])\n",
    "\n",
    "with open('changes.txt','w') as out:\n",
    "    csv_out=csv.writer(out)\n",
    "    for row in changedfiles:\n",
    "        csv_out.writerow(row)\n"
   ]
  },
  {
   "cell_type": "code",
   "execution_count": null,
   "metadata": {},
   "outputs": [],
   "source": []
  }
 ],
 "metadata": {
  "kernelspec": {
   "display_name": "Python 3",
   "language": "python",
   "name": "python3"
  },
  "language_info": {
   "codemirror_mode": {
    "name": "ipython",
    "version": 3
   },
   "file_extension": ".py",
   "mimetype": "text/x-python",
   "name": "python",
   "nbconvert_exporter": "python",
   "pygments_lexer": "ipython3",
   "version": "3.7.0"
  }
 },
 "nbformat": 4,
 "nbformat_minor": 2
}
